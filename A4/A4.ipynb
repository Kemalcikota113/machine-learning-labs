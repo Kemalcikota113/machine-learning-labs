{
 "cells": [
  {
   "cell_type": "markdown",
   "metadata": {},
   "source": [
    "# Machine learning - Assignment 4 - Classification\n",
    "____\n",
    "**Author**: Kemal Cikota\n",
    "\n",
    "**Course**: Machine learning\n",
    "____\n",
    "\n",
    "## Introduction\n",
    "\n",
    "In this assignment, we were first tasked with answeriing and discussing differences between classification models, such as, Linear Discriminant Analysis (LDA), Quadratic Discriminant Analysis (QDA), and k-nearest neighbor (KNN). The later practical part of this assignment involves implementing using the 'Smarket.csv' dataset which is a financial dataset that containst stock market returns. The classification models will be used to predict market movements. Conclusions and interpretations of the outputs will also be made in this notebook to make it clearer as to how and why certain calculations are computed and what their results indicate.\n",
    "\n",
    "For many of the explanations i will use [this source](https://rdrr.io/cran/ISLR/man/Smarket.html) as a reference for what the columns means. Theese short descriptions were of great help to me.\n",
    "\n",
    "## Conceptual Questions\n",
    "\n",
    "**1. Discuss the differences between LDA and QDA in terms of their main assumptions\n",
    "about classes, decision boundaries, number of samples, and overfitting**\n",
    "\n",
    "The main assumption that LDA makes about classes is that LDA assumes that the different classes follow a _multivariate normal distribution with a common covaraince matrix_. In this case, a class is a 'value' that a classification variable/column/feature can take. So for example, the two classes in the smarket.csv file can be found under the **Direction** column and they are **up** and **down**. But what do i mean by common covariance matrix? Well, a covariance matrix is a square matrix that contains the covariances between all pairs of features. It is used to model the distribution of the data and to determine the shape of decision variables in classification. On the other hand, QDA makes the assumption that each class should have its own covariance matrix so for the smarket dataset, this would mean that the classes **up** and **down** have their own covariance matrix. In practice, it would mean that the covariance matrix for LDA would look something like this (not a guarantee that this is 100% correct, its more of a 'proof of concept').\n",
    "\n",
    "$$\n",
    "\\Sigma =\n",
    "\\begin{bmatrix}\n",
    "\\text{Var}(\\text{Lag1}) & \\text{Cov}(\\text{Lag1}, \\text{Lag2}) & \\text{Cov}(\\text{Lag1}, \\text{Lag3}) & \\text{Cov}(\\text{Lag1}, \\text{Volume}) \\\\\n",
    "\\text{Cov}(\\text{Lag2}, \\text{Lag1}) & \\text{Var}(\\text{Lag2}) & \\text{Cov}(\\text{Lag2}, \\text{Lag3}) & \\text{Cov}(\\text{Lag2}, \\text{Volume}) \\\\\n",
    "\\text{Cov}(\\text{Lag3}, \\text{Lag1}) & \\text{Cov}(\\text{Lag3}, \\text{Lag2}) & \\text{Var}(\\text{Lag3}) & \\text{Cov}(\\text{Lag3}, \\text{Volume}) \\\\\n",
    "\\text{Cov}(\\text{Volume}, \\text{Lag1}) & \\text{Cov}(\\text{Volume}, \\text{Lag2}) & \\text{Cov}(\\text{Volume}, \\text{Lag3}) & \\text{Var}(\\text{Volume})\n",
    "\\end{bmatrix}\n",
    "$$\n",
    "\n",
    "But for QDA we have _two_ matrices, one for each class.\n",
    "\n",
    "$$\n",
    "\\Sigma{\\text{Up}} =\n",
    "\\begin{bmatrix}\n",
    "\\text{Var}(\\text{Lag1}) & \\text{Cov}(\\text{Lag1}, \\text{Lag2}) & \\cdots \\\\\n",
    "\\text{Cov}(\\text{Lag2}, \\text{Lag1}) & \\text{Var}(\\text{Lag2}) & \\cdots \\\\\n",
    "\\vdots & \\vdots & \\ddots\n",
    "\\end{bmatrix}\n",
    "$$\n",
    "\n",
    "$$\n",
    "\\Sigma{\\text{Down}} =\n",
    "\\begin{bmatrix}\n",
    "\\text{Var}(\\text{Lag1}) & \\text{Cov}(\\text{Lag1}, \\text{Lag2}) & \\cdots \\\\\n",
    "\\text{Cov}(\\text{Lag2}, \\text{Lag1}) & \\text{Var}(\\text{Lag2}) & \\cdots \\\\\n",
    "\\vdots & \\vdots & \\ddots\n",
    "\\end{bmatrix}\n",
    "$$\n",
    "\n",
    "Now when this is clear, i can now discuss t\n",
    "\n",
    "## Practical\n",
    "\n",
    "Short intro about what is about to happen.\n",
    "\n",
    "### Load the data and get an overview of the data"
   ]
  },
  {
   "cell_type": "code",
   "execution_count": null,
   "metadata": {},
   "outputs": [],
   "source": [
    "import pandas as pd # Never coded in R before but this seems to be the equivalent of library(pandas) in R\n",
    "import seaborn as sns\n",
    "import matplotlib.pyplot as plt\n",
    "import scipy.stats as stats\n",
    "import statsmodels.api as sm\n",
    "\n",
    "# load Smarket.csv\n",
    "boston = pd.read_csv('Smarket.csv')\n",
    "\n",
    "# Set pandas option to display all columns\n",
    "pd.set_option('display.max_columns', None)"
   ]
  }
 ],
 "metadata": {
  "kernelspec": {
   "display_name": "Python 3",
   "language": "python",
   "name": "python3"
  },
  "language_info": {
   "name": "python",
   "version": "3.10.11"
  }
 },
 "nbformat": 4,
 "nbformat_minor": 2
}
