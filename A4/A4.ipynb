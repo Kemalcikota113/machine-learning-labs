{
 "cells": [
  {
   "cell_type": "markdown",
   "metadata": {},
   "source": [
    "# Machine learning - Assignment 4 - Classification\n",
    "____\n",
    "**Author**: Kemal Cikota\n",
    "\n",
    "**Course**: Machine learning\n",
    "____\n",
    "\n",
    "## Introduction\n",
    "\n",
    "In this assignment, we were first tasked with answeriing and discussing differences between classification models, such as, Linear Discriminant Analysis (LDA), Quadratic Discriminant Analysis (QDA), and k-nearest neighbor (KNN). The later practical part of this assignment involves implementing using the 'Smarket.csv' dataset which is a financial dataset that containst stock market returns. The classification models will be used to predict market movements. Conclusions and interpretations of the outputs will also be made in this notebook to make it clearer as to how and why certain calculations are computed and what their results indicate.\n",
    "\n",
    "For many of the explanations i will use [this source](https://rdrr.io/cran/ISLR/man/Smarket.html) as a reference for what the columns means. Theese short descriptions were of great help to me.\n",
    "\n",
    "## Conceptual Questions\n",
    "\n",
    "**1. Discuss the differences between LDA and QDA in terms of their main assumptions\n",
    "about classes, decision boundaries, number of samples, and overfitting**\n",
    "\n",
    "The main assumption that LDA makes about classes is that LDA assumes that the different classes follow a _multivariate normal distribution with a common covaraince matrix_. In this case, a class is a 'value' that a classification variable/column/feature can take. So for example, the two classes in the smarket.csv file can be found under the **Direction** column and they are **up** and **down**. But what do i mean by common covariance matrix? Well, a covariance matrix is a square matrix that contains the covariances between all pairs of features. It is used to model the distribution of the data and to determine the shape of decision variables in classification. On the other hand, QDA makes the assumption that each class should have its own covariance matrix so for the smarket dataset, this would mean that the classes **up** and **down** have their own covariance matrix. In practice, it would mean that the covariance matrix for LDA would look something like this (not a guarantee that this is 100% correct, its more of a 'proof of concept').\n",
    "\n",
    "$$\n",
    "\\Sigma =\n",
    "\\begin{bmatrix}\n",
    "\\text{Var}(\\text{Lag1}) & \\text{Cov}(\\text{Lag1}, \\text{Lag2}) & \\text{Cov}(\\text{Lag1}, \\text{Lag3}) & \\text{Cov}(\\text{Lag1}, \\text{Volume}) \\\\\n",
    "\\text{Cov}(\\text{Lag2}, \\text{Lag1}) & \\text{Var}(\\text{Lag2}) & \\text{Cov}(\\text{Lag2}, \\text{Lag3}) & \\text{Cov}(\\text{Lag2}, \\text{Volume}) \\\\\n",
    "\\text{Cov}(\\text{Lag3}, \\text{Lag1}) & \\text{Cov}(\\text{Lag3}, \\text{Lag2}) & \\text{Var}(\\text{Lag3}) & \\text{Cov}(\\text{Lag3}, \\text{Volume}) \\\\\n",
    "\\text{Cov}(\\text{Volume}, \\text{Lag1}) & \\text{Cov}(\\text{Volume}, \\text{Lag2}) & \\text{Cov}(\\text{Volume}, \\text{Lag3}) & \\text{Var}(\\text{Volume})\n",
    "\\end{bmatrix}\n",
    "$$\n",
    "\n",
    "But for QDA we have _two_ matrices, one for each class.\n",
    "\n",
    "$$\n",
    "\\Sigma{\\text{Up}} =\n",
    "\\begin{bmatrix}\n",
    "\\text{Var}(\\text{Lag1}) & \\text{Cov}(\\text{Lag1}, \\text{Lag2}) & \\cdots \\\\\n",
    "\\text{Cov}(\\text{Lag2}, \\text{Lag1}) & \\text{Var}(\\text{Lag2}) & \\cdots \\\\\n",
    "\\vdots & \\vdots & \\ddots\n",
    "\\end{bmatrix}\n",
    "$$\n",
    "\n",
    "$$\n",
    "\\Sigma{\\text{Down}} =\n",
    "\\begin{bmatrix}\n",
    "\\text{Var}(\\text{Lag1}) & \\text{Cov}(\\text{Lag1}, \\text{Lag2}) & \\cdots \\\\\n",
    "\\text{Cov}(\\text{Lag2}, \\text{Lag1}) & \\text{Var}(\\text{Lag2}) & \\cdots \\\\\n",
    "\\vdots & \\vdots & \\ddots\n",
    "\\end{bmatrix}\n",
    "$$\n",
    "\n",
    "Now when this is clear, i can now discuss the assumptions about decision boundaries, number of samples and overfitting as all of them are kind of an effect from the fact that the covaraince matrices are different like this.\n",
    "\n",
    "The decision boundaries for LDA is always a linear hyperplane. So it can either be a straight line if it's in 2D or it can be a straight plane if it's in 3D (i mean it can \"tilt\" but the plane itself can not bend or curve). This makes sence since all classes share the same covariance structure. However, in QDA, we allow each class to have its own covariance matrix, so the decision bounds is quadratic, meaning it can be a curved (non-linear) hyperplane in 3D. This means that LDA is best suited for problems where the class distributions are linearly separable.\n",
    "\n",
    "LDA requires fewer training samples since it estimates only one covariance matrix shared across all classes while QDA requires significantly more training data because it must estimate a separate covariance matrix for each class. We can also see that this relationship can be mathematically shown since LDA requires $d(d + 1)/2$ for d predictor variables while QDA needs $C * (d(d + 1)/2)$ parameters where $C$ is the amount of classes. So, as we can see, this would scale very aggresively if we have a lot of classes in our data since we would have to multiply the amount of classes in QDA as opposed to LDA where we only take the predictors in to account.\n",
    "\n",
    "When it comes to overfitting, i would say that LDA probably has a less chance to overfit on some generic dataset because strong assumptions are made about the distribution of classes (same covariance matrices/structure) and uses much less parameters especially for data with a lot of classes. But QDA is probably more prone to overfitting, especially with less data, because it models each class separately with more parameters.\n",
    "\n",
    "**2. Regarding KNN**\n",
    "\n",
    "**a) How does the choice of distance metric affect the performance of KNN classification?**\n",
    "\n",
    "In the KNN (K- nearest neighbor) algorithm, the algorithms classifies a new data point by looking at the 'k' closest training points and assigning the majorit class among them. The way the distance metric is calculated (basically, the range of what to include in K) will directly impact what is considered a 'neighbor' which also impacts how accurate the classification is and how sensitive the KNN algorithm is to certain features.\n",
    "\n",
    "There are actually a lot of different ways of calculating the distance metric since it is not that different from calculating any other distance in mathematics. The way of calculating distance that i have learnt from mainly linear algebra but also numerical methods and optimization courses and that i am most familiar with is _euclidean distance_ which is just the line segment between two points. It is easily and intuitively calculated like this: $d(x, y) = \\sqrt{\\sum(x_i - y_i)^2}$\n",
    "\n",
    "This formula measures straight line distances works well when all features have the same scale and are independent of each other which makes it applicable for a wide range of simpler data but if we have data features with different scales (like age in years and salary in thousands of dollars), the salary will dominate the age by a lot so we would have to find a way to normalize our data to [0, 1] ranges in order to prevent features to overwhelm others.\n",
    "\n",
    "There are also other ways of calculating distances but many of them have their pro's and cons so chosing a method really depends on the data itself.\n",
    "\n",
    "**b) please also discuss the concept of the curse of dimensionality and its implications for KNN algorithm**\n",
    "\n",
    "The curse of dimensionality is a problem when working with data that has a lot of dimensions (features) and data points become more and more sparse. This makes it difficult for distance based learning algorithms (like KNN) to work efficiently. This is because in high dimensional spaces, the distance between points tend to be further away from each other which makes it so that the meaning of _closeness_ becomes meaningless and the distance metrics become less and less reliable.\n",
    "\n",
    "\n",
    "## Practical\n",
    "\n",
    "For the practical part of the assignment, i have to work with the smarket.csv dataset which consists of percentage returns for a stock index over 1250 days. During this practical part, i will show off some logistic regression models and also perform LDA and QDA as well as KNN models. A lot of code/syntax will be reused from my previous submissions as i can easily just change some arguments in order to make it work properly. And also, i quite like my previous submissions.\n",
    "\n",
    "### Load the data and get an overview of the data"
   ]
  },
  {
   "cell_type": "code",
   "execution_count": 162,
   "metadata": {},
   "outputs": [],
   "source": [
    "import pandas as pd # Never coded in R before but this seems to be the equivalent of library(pandas) in R\n",
    "import seaborn as sns\n",
    "import matplotlib.pyplot as plt\n",
    "import scipy.stats as stats\n",
    "import statsmodels.api as sm\n",
    "import numpy as np\n",
    "\n",
    "from sklearn.discriminant_analysis import LinearDiscriminantAnalysis as LDA # pip install scikit-learn\n",
    "from sklearn.discriminant_analysis import QuadraticDiscriminantAnalysis as QDA\n",
    "from sklearn.model_selection import train_test_split\n",
    "from sklearn.neighbors import KNeighborsClassifier\n",
    "from sklearn.metrics import confusion_matrix, accuracy_score\n",
    "from sklearn.metrics import confusion_matrix, accuracy_score\n",
    "\n",
    "\n",
    "# load Smarket.csv\n",
    "smarket = pd.read_csv('Smarket.csv')\n",
    "\n",
    "# Set pandas option to display all columns\n",
    "pd.set_option('display.max_columns', None)"
   ]
  },
  {
   "cell_type": "markdown",
   "metadata": {},
   "source": [
    "Once the dataset is loaded, we can display the number of predictors (variables/columns) and their names."
   ]
  },
  {
   "cell_type": "code",
   "execution_count": 163,
   "metadata": {},
   "outputs": [
    {
     "name": "stdout",
     "output_type": "stream",
     "text": [
      "10\n",
      "['Unnamed: 0', 'Year', 'Lag1', 'Lag2', 'Lag3', 'Lag4', 'Lag5', 'Volume', 'Today', 'Direction']\n",
      "\n"
     ]
    }
   ],
   "source": [
    "numFeatures = smarket.shape[1]\n",
    "print(numFeatures)\n",
    "\n",
    "featureNames = smarket.columns.tolist()\n",
    "print(featureNames, end=\"\\n\\n\")"
   ]
  },
  {
   "cell_type": "markdown",
   "metadata": {},
   "source": [
    "We can now also print a statistic summary of the predictors and responses. i however need to enumerate the Direction feature myself since pandas cant do that by default."
   ]
  },
  {
   "cell_type": "code",
   "execution_count": 164,
   "metadata": {},
   "outputs": [
    {
     "name": "stdout",
     "output_type": "stream",
     "text": [
      "        Unnamed: 0         Year         Lag1         Lag2         Lag3  \\\n",
      "count  1250.000000  1250.000000  1250.000000  1250.000000  1250.000000   \n",
      "mean    625.500000  2003.016000     0.003834     0.003919     0.001716   \n",
      "std     360.988227     1.409018     1.136299     1.136280     1.138703   \n",
      "min       1.000000  2001.000000    -4.922000    -4.922000    -4.922000   \n",
      "25%     313.250000  2002.000000    -0.639500    -0.639500    -0.640000   \n",
      "50%     625.500000  2003.000000     0.039000     0.039000     0.038500   \n",
      "75%     937.750000  2004.000000     0.596750     0.596750     0.596750   \n",
      "max    1250.000000  2005.000000     5.733000     5.733000     5.733000   \n",
      "\n",
      "              Lag4        Lag5       Volume        Today  \n",
      "count  1250.000000  1250.00000  1250.000000  1250.000000  \n",
      "mean      0.001636     0.00561     1.478305     0.003138  \n",
      "std       1.138774     1.14755     0.360357     1.136334  \n",
      "min      -4.922000    -4.92200     0.356070    -4.922000  \n",
      "25%      -0.640000    -0.64000     1.257400    -0.639500  \n",
      "50%       0.038500     0.03850     1.422950     0.038500  \n",
      "75%       0.596750     0.59700     1.641675     0.596750  \n",
      "max       5.733000     5.73300     3.152470     5.733000  \n",
      "\n",
      "Summary for Direction:\n",
      "Direction\n",
      "Up      648\n",
      "Down    602\n",
      "Name: count, dtype: int64\n",
      "\n"
     ]
    }
   ],
   "source": [
    "print(smarket.describe(), end=\"\\n\\n\")\n",
    "\n",
    "# I count the categorical separate instances manually as i couldnt find a good function to do it. \n",
    "categorical_columns = smarket.select_dtypes(include=['object', 'category']).columns\n",
    "\n",
    "for col in categorical_columns:\n",
    "    print(f\"Summary for {col}:\")\n",
    "    print(smarket[col].value_counts(), end=\"\\n\\n\")\n"
   ]
  },
  {
   "cell_type": "markdown",
   "metadata": {},
   "source": [
    "We can now also display the number of datapoints:"
   ]
  },
  {
   "cell_type": "code",
   "execution_count": 165,
   "metadata": {},
   "outputs": [
    {
     "name": "stdout",
     "output_type": "stream",
     "text": [
      "total amount of datapoints:  1250\n",
      "\n"
     ]
    }
   ],
   "source": [
    "print(\"total amount of datapoints: \", smarket.shape[0], end=\"\\n\\n\")"
   ]
  },
  {
   "cell_type": "code",
   "execution_count": 166,
   "metadata": {},
   "outputs": [
    {
     "data": {
      "text/html": [
       "<div>\n",
       "<style scoped>\n",
       "    .dataframe tbody tr th:only-of-type {\n",
       "        vertical-align: middle;\n",
       "    }\n",
       "\n",
       "    .dataframe tbody tr th {\n",
       "        vertical-align: top;\n",
       "    }\n",
       "\n",
       "    .dataframe thead th {\n",
       "        text-align: right;\n",
       "    }\n",
       "</style>\n",
       "<table border=\"1\" class=\"dataframe\">\n",
       "  <thead>\n",
       "    <tr style=\"text-align: right;\">\n",
       "      <th></th>\n",
       "      <th>Unnamed: 0</th>\n",
       "      <th>Year</th>\n",
       "      <th>Lag1</th>\n",
       "      <th>Lag2</th>\n",
       "      <th>Lag3</th>\n",
       "      <th>Lag4</th>\n",
       "      <th>Lag5</th>\n",
       "      <th>Volume</th>\n",
       "      <th>Today</th>\n",
       "      <th>Direction</th>\n",
       "    </tr>\n",
       "  </thead>\n",
       "  <tbody>\n",
       "    <tr>\n",
       "      <th>0</th>\n",
       "      <td>1</td>\n",
       "      <td>2001</td>\n",
       "      <td>0.381</td>\n",
       "      <td>-0.192</td>\n",
       "      <td>-2.624</td>\n",
       "      <td>-1.055</td>\n",
       "      <td>5.010</td>\n",
       "      <td>1.19130</td>\n",
       "      <td>0.959</td>\n",
       "      <td>Up</td>\n",
       "    </tr>\n",
       "    <tr>\n",
       "      <th>1</th>\n",
       "      <td>2</td>\n",
       "      <td>2001</td>\n",
       "      <td>0.959</td>\n",
       "      <td>0.381</td>\n",
       "      <td>-0.192</td>\n",
       "      <td>-2.624</td>\n",
       "      <td>-1.055</td>\n",
       "      <td>1.29650</td>\n",
       "      <td>1.032</td>\n",
       "      <td>Up</td>\n",
       "    </tr>\n",
       "    <tr>\n",
       "      <th>2</th>\n",
       "      <td>3</td>\n",
       "      <td>2001</td>\n",
       "      <td>1.032</td>\n",
       "      <td>0.959</td>\n",
       "      <td>0.381</td>\n",
       "      <td>-0.192</td>\n",
       "      <td>-2.624</td>\n",
       "      <td>1.41120</td>\n",
       "      <td>-0.623</td>\n",
       "      <td>Down</td>\n",
       "    </tr>\n",
       "    <tr>\n",
       "      <th>3</th>\n",
       "      <td>4</td>\n",
       "      <td>2001</td>\n",
       "      <td>-0.623</td>\n",
       "      <td>1.032</td>\n",
       "      <td>0.959</td>\n",
       "      <td>0.381</td>\n",
       "      <td>-0.192</td>\n",
       "      <td>1.27600</td>\n",
       "      <td>0.614</td>\n",
       "      <td>Up</td>\n",
       "    </tr>\n",
       "    <tr>\n",
       "      <th>4</th>\n",
       "      <td>5</td>\n",
       "      <td>2001</td>\n",
       "      <td>0.614</td>\n",
       "      <td>-0.623</td>\n",
       "      <td>1.032</td>\n",
       "      <td>0.959</td>\n",
       "      <td>0.381</td>\n",
       "      <td>1.20570</td>\n",
       "      <td>0.213</td>\n",
       "      <td>Up</td>\n",
       "    </tr>\n",
       "    <tr>\n",
       "      <th>...</th>\n",
       "      <td>...</td>\n",
       "      <td>...</td>\n",
       "      <td>...</td>\n",
       "      <td>...</td>\n",
       "      <td>...</td>\n",
       "      <td>...</td>\n",
       "      <td>...</td>\n",
       "      <td>...</td>\n",
       "      <td>...</td>\n",
       "      <td>...</td>\n",
       "    </tr>\n",
       "    <tr>\n",
       "      <th>1245</th>\n",
       "      <td>1246</td>\n",
       "      <td>2005</td>\n",
       "      <td>0.422</td>\n",
       "      <td>0.252</td>\n",
       "      <td>-0.024</td>\n",
       "      <td>-0.584</td>\n",
       "      <td>-0.285</td>\n",
       "      <td>1.88850</td>\n",
       "      <td>0.043</td>\n",
       "      <td>Up</td>\n",
       "    </tr>\n",
       "    <tr>\n",
       "      <th>1246</th>\n",
       "      <td>1247</td>\n",
       "      <td>2005</td>\n",
       "      <td>0.043</td>\n",
       "      <td>0.422</td>\n",
       "      <td>0.252</td>\n",
       "      <td>-0.024</td>\n",
       "      <td>-0.584</td>\n",
       "      <td>1.28581</td>\n",
       "      <td>-0.955</td>\n",
       "      <td>Down</td>\n",
       "    </tr>\n",
       "    <tr>\n",
       "      <th>1247</th>\n",
       "      <td>1248</td>\n",
       "      <td>2005</td>\n",
       "      <td>-0.955</td>\n",
       "      <td>0.043</td>\n",
       "      <td>0.422</td>\n",
       "      <td>0.252</td>\n",
       "      <td>-0.024</td>\n",
       "      <td>1.54047</td>\n",
       "      <td>0.130</td>\n",
       "      <td>Up</td>\n",
       "    </tr>\n",
       "    <tr>\n",
       "      <th>1248</th>\n",
       "      <td>1249</td>\n",
       "      <td>2005</td>\n",
       "      <td>0.130</td>\n",
       "      <td>-0.955</td>\n",
       "      <td>0.043</td>\n",
       "      <td>0.422</td>\n",
       "      <td>0.252</td>\n",
       "      <td>1.42236</td>\n",
       "      <td>-0.298</td>\n",
       "      <td>Down</td>\n",
       "    </tr>\n",
       "    <tr>\n",
       "      <th>1249</th>\n",
       "      <td>1250</td>\n",
       "      <td>2005</td>\n",
       "      <td>-0.298</td>\n",
       "      <td>0.130</td>\n",
       "      <td>-0.955</td>\n",
       "      <td>0.043</td>\n",
       "      <td>0.422</td>\n",
       "      <td>1.38254</td>\n",
       "      <td>-0.489</td>\n",
       "      <td>Down</td>\n",
       "    </tr>\n",
       "  </tbody>\n",
       "</table>\n",
       "<p>1250 rows × 10 columns</p>\n",
       "</div>"
      ],
      "text/plain": [
       "      Unnamed: 0  Year   Lag1   Lag2   Lag3   Lag4   Lag5   Volume  Today  \\\n",
       "0              1  2001  0.381 -0.192 -2.624 -1.055  5.010  1.19130  0.959   \n",
       "1              2  2001  0.959  0.381 -0.192 -2.624 -1.055  1.29650  1.032   \n",
       "2              3  2001  1.032  0.959  0.381 -0.192 -2.624  1.41120 -0.623   \n",
       "3              4  2001 -0.623  1.032  0.959  0.381 -0.192  1.27600  0.614   \n",
       "4              5  2001  0.614 -0.623  1.032  0.959  0.381  1.20570  0.213   \n",
       "...          ...   ...    ...    ...    ...    ...    ...      ...    ...   \n",
       "1245        1246  2005  0.422  0.252 -0.024 -0.584 -0.285  1.88850  0.043   \n",
       "1246        1247  2005  0.043  0.422  0.252 -0.024 -0.584  1.28581 -0.955   \n",
       "1247        1248  2005 -0.955  0.043  0.422  0.252 -0.024  1.54047  0.130   \n",
       "1248        1249  2005  0.130 -0.955  0.043  0.422  0.252  1.42236 -0.298   \n",
       "1249        1250  2005 -0.298  0.130 -0.955  0.043  0.422  1.38254 -0.489   \n",
       "\n",
       "     Direction  \n",
       "0           Up  \n",
       "1           Up  \n",
       "2         Down  \n",
       "3           Up  \n",
       "4           Up  \n",
       "...        ...  \n",
       "1245        Up  \n",
       "1246      Down  \n",
       "1247        Up  \n",
       "1248      Down  \n",
       "1249      Down  \n",
       "\n",
       "[1250 rows x 10 columns]"
      ]
     },
     "execution_count": 166,
     "metadata": {},
     "output_type": "execute_result"
    }
   ],
   "source": [
    "smarket"
   ]
  },
  {
   "cell_type": "markdown",
   "metadata": {},
   "source": [
    "We can now compute the pairwise correlation of the predictors in the dataset. We can do this by plotting the correlation matrix between the pairwise features. In the example, i can see that the direction feature was dropped (probably because its a classification feature) so i did the same in my demonstration."
   ]
  },
  {
   "cell_type": "code",
   "execution_count": 167,
   "metadata": {},
   "outputs": [
    {
     "data": {
      "image/png": "[encoded data removed]",
      "text/plain": [
       "<Figure size 1000x800 with 2 Axes>"
      ]
     },
     "metadata": {},
     "output_type": "display_data"
    }
   ],
   "source": [
    "# drop direction column\n",
    "smarket = smarket.drop(columns=['Direction'])\n",
    "\n",
    "correlation_matrix = smarket.corr()\n",
    "\n",
    "plt.figure(figsize=(10, 8))\n",
    "sns.heatmap(correlation_matrix, annot=True, cmap='coolwarm', center=0)\n",
    "plt.title(\"Correlation Matrix\")\n",
    "plt.show()"
   ]
  },
  {
   "cell_type": "markdown",
   "metadata": {},
   "source": [
    "INTERPRET THE RESULTS\n",
    "\n",
    "We can now also plot the correlated predictors 'volume' and year."
   ]
  },
  {
   "cell_type": "code",
   "execution_count": 168,
   "metadata": {},
   "outputs": [
    {
     "data": {
      "image/png": "[encoded data removed]",
      "text/plain": [
       "<Figure size 800x600 with 1 Axes>"
      ]
     },
     "metadata": {},
     "output_type": "display_data"
    }
   ],
   "source": [
    "correlation_year_volume, p_value_year_volume = stats.pearsonr(smarket['Year'], smarket['Volume'])\n",
    "\n",
    "plt.figure(figsize=(8, 6))\n",
    "sns.regplot(x=\"Year\", y=\"Volume\", data=smarket, line_kws={'color':'black'})\n",
    "\n",
    "# Ensure only whole numbers for years\n",
    "plt.xticks(np.arange(smarket[\"Year\"].min(), smarket[\"Year\"].max() + 1, 1))\n",
    "\n",
    "plt.title(f\"Correlation between Year and Volume: {correlation_year_volume:.2f} (p-value: {p_value_year_volume:.2f})\")\n",
    "plt.xlabel(\"Year\")\n",
    "plt.ylabel(\"Volume\")\n",
    "plt.show()"
   ]
  },
  {
   "cell_type": "markdown",
   "metadata": {},
   "source": [
    "INTERPRETATION OF RESULTS\n",
    "\n",
    "### Perform logistic regressions\n",
    "\n",
    "For this model, i want to use the _Direction_ feature as my response variable and i want to use all remaining available features as my predictor variables.\n",
    "\n",
    "But of course, since Direction is categorical, python does not handle it very well so we have to convert it to dummy data. But luckily for us, there are only 2 classes in Direction, so we can just make the data binary instead. So for the 'Down' class, i will instead replace it by 0 and for the 'Up' class i will just make it 1."
   ]
  },
  {
   "cell_type": "code",
   "execution_count": 169,
   "metadata": {},
   "outputs": [
    {
     "name": "stdout",
     "output_type": "stream",
     "text": [
      "Optimization terminated successfully.\n",
      "         Current function value: 0.691034\n",
      "         Iterations 4\n"
     ]
    },
    {
     "data": {
      "text/html": [
       "<table class=\"simpletable\">\n",
       "<caption>Logit Regression Results</caption>\n",
       "<tr>\n",
       "  <th>Dep. Variable:</th>       <td>Direction</td>    <th>  No. Observations:  </th>  <td>  1250</td> \n",
       "</tr>\n",
       "<tr>\n",
       "  <th>Model:</th>                 <td>Logit</td>      <th>  Df Residuals:      </th>  <td>  1243</td> \n",
       "</tr>\n",
       "<tr>\n",
       "  <th>Method:</th>                 <td>MLE</td>       <th>  Df Model:          </th>  <td>     6</td> \n",
       "</tr>\n",
       "<tr>\n",
       "  <th>Date:</th>            <td>Sun, 23 Feb 2025</td> <th>  Pseudo R-squ.:     </th> <td>0.002074</td>\n",
       "</tr>\n",
       "<tr>\n",
       "  <th>Time:</th>                <td>17:28:27</td>     <th>  Log-Likelihood:    </th> <td> -863.79</td>\n",
       "</tr>\n",
       "<tr>\n",
       "  <th>converged:</th>             <td>True</td>       <th>  LL-Null:           </th> <td> -865.59</td>\n",
       "</tr>\n",
       "<tr>\n",
       "  <th>Covariance Type:</th>     <td>nonrobust</td>    <th>  LLR p-value:       </th>  <td>0.7319</td> \n",
       "</tr>\n",
       "</table>\n",
       "<table class=\"simpletable\">\n",
       "<tr>\n",
       "     <td></td>       <th>coef</th>     <th>std err</th>      <th>z</th>      <th>P>|z|</th>  <th>[0.025</th>    <th>0.975]</th>  \n",
       "</tr>\n",
       "<tr>\n",
       "  <th>const</th>  <td>   -0.1260</td> <td>    0.241</td> <td>   -0.523</td> <td> 0.601</td> <td>   -0.598</td> <td>    0.346</td>\n",
       "</tr>\n",
       "<tr>\n",
       "  <th>Lag1</th>   <td>   -0.0731</td> <td>    0.050</td> <td>   -1.457</td> <td> 0.145</td> <td>   -0.171</td> <td>    0.025</td>\n",
       "</tr>\n",
       "<tr>\n",
       "  <th>Lag2</th>   <td>   -0.0423</td> <td>    0.050</td> <td>   -0.845</td> <td> 0.398</td> <td>   -0.140</td> <td>    0.056</td>\n",
       "</tr>\n",
       "<tr>\n",
       "  <th>Lag3</th>   <td>    0.0111</td> <td>    0.050</td> <td>    0.222</td> <td> 0.824</td> <td>   -0.087</td> <td>    0.109</td>\n",
       "</tr>\n",
       "<tr>\n",
       "  <th>Lag4</th>   <td>    0.0094</td> <td>    0.050</td> <td>    0.187</td> <td> 0.851</td> <td>   -0.089</td> <td>    0.107</td>\n",
       "</tr>\n",
       "<tr>\n",
       "  <th>Lag5</th>   <td>    0.0103</td> <td>    0.050</td> <td>    0.208</td> <td> 0.835</td> <td>   -0.087</td> <td>    0.107</td>\n",
       "</tr>\n",
       "<tr>\n",
       "  <th>Volume</th> <td>    0.1354</td> <td>    0.158</td> <td>    0.855</td> <td> 0.392</td> <td>   -0.175</td> <td>    0.446</td>\n",
       "</tr>\n",
       "</table>"
      ],
      "text/latex": [
       "\\begin{center}\n",
       "\\begin{tabular}{lclc}\n",
       "\\toprule\n",
       "\\textbf{Dep. Variable:}   &    Direction     & \\textbf{  No. Observations:  } &     1250    \\\\\n",
       "\\textbf{Model:}           &      Logit       & \\textbf{  Df Residuals:      } &     1243    \\\\\n",
       "\\textbf{Method:}          &       MLE        & \\textbf{  Df Model:          } &        6    \\\\\n",
       "\\textbf{Date:}            & Sun, 23 Feb 2025 & \\textbf{  Pseudo R-squ.:     } &  0.002074   \\\\\n",
       "\\textbf{Time:}            &     17:28:27     & \\textbf{  Log-Likelihood:    } &   -863.79   \\\\\n",
       "\\textbf{converged:}       &       True       & \\textbf{  LL-Null:           } &   -865.59   \\\\\n",
       "\\textbf{Covariance Type:} &    nonrobust     & \\textbf{  LLR p-value:       } &   0.7319    \\\\\n",
       "\\bottomrule\n",
       "\\end{tabular}\n",
       "\\begin{tabular}{lcccccc}\n",
       "                & \\textbf{coef} & \\textbf{std err} & \\textbf{z} & \\textbf{P$> |$z$|$} & \\textbf{[0.025} & \\textbf{0.975]}  \\\\\n",
       "\\midrule\n",
       "\\textbf{const}  &      -0.1260  &        0.241     &    -0.523  &         0.601        &       -0.598    &        0.346     \\\\\n",
       "\\textbf{Lag1}   &      -0.0731  &        0.050     &    -1.457  &         0.145        &       -0.171    &        0.025     \\\\\n",
       "\\textbf{Lag2}   &      -0.0423  &        0.050     &    -0.845  &         0.398        &       -0.140    &        0.056     \\\\\n",
       "\\textbf{Lag3}   &       0.0111  &        0.050     &     0.222  &         0.824        &       -0.087    &        0.109     \\\\\n",
       "\\textbf{Lag4}   &       0.0094  &        0.050     &     0.187  &         0.851        &       -0.089    &        0.107     \\\\\n",
       "\\textbf{Lag5}   &       0.0103  &        0.050     &     0.208  &         0.835        &       -0.087    &        0.107     \\\\\n",
       "\\textbf{Volume} &       0.1354  &        0.158     &     0.855  &         0.392        &       -0.175    &        0.446     \\\\\n",
       "\\bottomrule\n",
       "\\end{tabular}\n",
       "%\\caption{Logit Regression Results}\n",
       "\\end{center}"
      ],
      "text/plain": [
       "<class 'statsmodels.iolib.summary.Summary'>\n",
       "\"\"\"\n",
       "                           Logit Regression Results                           \n",
       "==============================================================================\n",
       "Dep. Variable:              Direction   No. Observations:                 1250\n",
       "Model:                          Logit   Df Residuals:                     1243\n",
       "Method:                           MLE   Df Model:                            6\n",
       "Date:                Sun, 23 Feb 2025   Pseudo R-squ.:                0.002074\n",
       "Time:                        17:28:27   Log-Likelihood:                -863.79\n",
       "converged:                       True   LL-Null:                       -865.59\n",
       "Covariance Type:            nonrobust   LLR p-value:                    0.7319\n",
       "==============================================================================\n",
       "                 coef    std err          z      P>|z|      [0.025      0.975]\n",
       "------------------------------------------------------------------------------\n",
       "const         -0.1260      0.241     -0.523      0.601      -0.598       0.346\n",
       "Lag1          -0.0731      0.050     -1.457      0.145      -0.171       0.025\n",
       "Lag2          -0.0423      0.050     -0.845      0.398      -0.140       0.056\n",
       "Lag3           0.0111      0.050      0.222      0.824      -0.087       0.109\n",
       "Lag4           0.0094      0.050      0.187      0.851      -0.089       0.107\n",
       "Lag5           0.0103      0.050      0.208      0.835      -0.087       0.107\n",
       "Volume         0.1354      0.158      0.855      0.392      -0.175       0.446\n",
       "==============================================================================\n",
       "\"\"\""
      ]
     },
     "execution_count": 169,
     "metadata": {},
     "output_type": "execute_result"
    }
   ],
   "source": [
    "\n",
    "smarket = pd.read_csv('Smarket.csv') # reload the data again since i dropped direction earlier\n",
    "\n",
    "smarket[\"Direction\"] = smarket[\"Direction\"].map({'Up': 1, 'Down': 0}) # convert to binary\n",
    "\n",
    "log_reg_model = sm.Logit(smarket['Direction'], sm.add_constant(smarket[['Lag1', 'Lag2', 'Lag3', 'Lag4', 'Lag5', 'Volume']])).fit()\n",
    "log_reg_model.summary()"
   ]
  },
  {
   "cell_type": "markdown",
   "metadata": {},
   "source": [
    "INTERPRETATION OF RESULTS\n",
    "\n",
    "### Use the logistic regression models\n",
    "\n",
    "Now i will use the log_reg_model to predict the probability that the market will go up, given the values of the predictors."
   ]
  },
  {
   "cell_type": "code",
   "execution_count": 170,
   "metadata": {},
   "outputs": [
    {
     "name": "stdout",
     "output_type": "stream",
     "text": [
      "[0.50708413 0.48146788 0.48113883 0.51522236 0.51078116 0.50695646\n",
      " 0.49265087 0.50922916 0.51761353 0.48883778]\n"
     ]
    }
   ],
   "source": [
    "probs = log_reg_model.predict()\n",
    "\n",
    "print(probs[0:10])"
   ]
  },
  {
   "cell_type": "markdown",
   "metadata": {},
   "source": [
    "Theese values given are the probability of the market going up and down. So as we can see, the first value is 0.507 which means that we can predict that the market will go up which matches the first row of the smarket.csv dataset.\n",
    "\n",
    "I can now replicate the \"contour\" function from R in python to see the total amount of up and down predictions by  including a rule logic that sets that value to \"up\" in a different column if the probability is over 0.5.\n"
   ]
  },
  {
   "cell_type": "code",
   "execution_count": 171,
   "metadata": {},
   "outputs": [
    {
     "name": "stdout",
     "output_type": "stream",
     "text": [
      "Direction  Down   Up\n",
      "Predicted           \n",
      "Down        145  141\n",
      "Up          457  507\n"
     ]
    }
   ],
   "source": [
    "smarket[\"Predicted_Directions\"] = np.repeat(\"Down\", smarket.shape[0])\n",
    "\n",
    "smarket.loc[probs > 0.5, \"Predicted_Directions\"] = \"Up\"\n",
    "smarket[\"Direction\"] = smarket[\"Direction\"].map({1: \"Up\", 0: \"Down\"})\n",
    "\n",
    "\n",
    "confusion_matrix = pd.crosstab(smarket[\"Predicted_Directions\"], smarket[\"Direction\"],  rownames=[\"Predicted\"])\n",
    "print(confusion_matrix)\n",
    "\n"
   ]
  },
  {
   "cell_type": "markdown",
   "metadata": {},
   "source": [
    "INTERPRETATION OF RESULTS\n",
    "\n",
    "Now we can check if a smaller subset of predictors would yield a better result then what we got. For this, i will only include _Lag1_ and  _Lag2_ as my predictors for the next model."
   ]
  },
  {
   "cell_type": "code",
   "execution_count": 172,
   "metadata": {},
   "outputs": [
    {
     "name": "stdout",
     "output_type": "stream",
     "text": [
      "Optimization terminated successfully.\n",
      "         Current function value: 0.691361\n",
      "         Iterations 4\n",
      "Direction  Down   Up\n",
      "Predicted           \n",
      "Down        114  102\n",
      "Up          488  546\n"
     ]
    }
   ],
   "source": [
    "smarket = pd.read_csv('Smarket.csv') # reload the data\n",
    "\n",
    "smarket[\"Direction\"] = smarket[\"Direction\"].map({'Up': 1, 'Down': 0}) # convert Direction to binary\n",
    "\n",
    "log_reg_model_2 = sm.Logit(smarket['Direction'], sm.add_constant(smarket[['Lag1', 'Lag2']])).fit()\n",
    "\n",
    "\n",
    "# The same code as above just changed the probs variable name.\n",
    "probs_2 = log_reg_model_2.predict()\n",
    "\n",
    "smarket[\"Predicted_Directions\"] = np.repeat(\"Down\", smarket.shape[0])\n",
    "\n",
    "smarket.loc[probs_2 > 0.5, \"Predicted_Directions\"] = \"Up\"\n",
    "smarket[\"Direction\"] = smarket[\"Direction\"].map({1: \"Up\", 0: \"Down\"})\n",
    "\n",
    "\n",
    "confusion_matrix = pd.crosstab(smarket[\"Predicted_Directions\"], smarket[\"Direction\"],  rownames=[\"Predicted\"])\n",
    "print(confusion_matrix)\n"
   ]
  },
  {
   "cell_type": "markdown",
   "metadata": {},
   "source": [
    "INTERPRETATION OF RESULTS\n",
    "\n",
    "### Perform an LDA\n",
    "\n",
    "Now i will perform an LDA on the smarket.csv dataset and analyze the result."
   ]
  },
  {
   "cell_type": "code",
   "execution_count": 173,
   "metadata": {},
   "outputs": [
    {
     "name": "stdout",
     "output_type": "stream",
     "text": [
      "\n",
      " prior probabilities of groups: \n",
      " [0.4816 0.5184]\n",
      "\n",
      " group means: \n",
      " [[ 0.05068605  0.03229734]\n",
      " [-0.03969136 -0.02244444]]\n",
      "\n",
      " coefficients of linear discriminants: \n",
      " [[-0.07126095 -0.04433204]]\n"
     ]
    },
    {
     "data": {
      "image/png": "[encoded data removed]",
      "text/plain": [
       "<Figure size 800x600 with 2 Axes>"
      ]
     },
     "metadata": {},
     "output_type": "display_data"
    }
   ],
   "source": [
    "smarket = pd.read_csv('Smarket.csv') # reload the data\n",
    "\n",
    "smarket[\"Direction\"] = smarket[\"Direction\"].map({'Up': 1, 'Down': 0}) # convert Direction to binary\n",
    "\n",
    "LDA_model = LDA().fit(smarket[['Lag1', 'Lag2']], smarket['Direction'])\n",
    "\n",
    "print(\"\\n prior probabilities of groups: \\n\", LDA_model.priors_)\n",
    "\n",
    "print(\"\\n group means: \\n\", LDA_model.means_)\n",
    "\n",
    "print(\"\\n coefficients of linear discriminants: \\n\", LDA_model.coef_)\n",
    "\n",
    "# LDA scores\n",
    "LDA_scores = LDA_model.transform(smarket[['Lag1', 'Lag2']])\n",
    "\n",
    "# Plot the graphs\n",
    "plt.figure(figsize=(8, 6))\n",
    "\n",
    "plt.subplot(1, 2, 1)\n",
    "plt.hist(LDA_scores[smarket['Direction'] == 0], bins=20, color='cyan', edgecolor='black', density=True)\n",
    "plt.title(\"Groupd down\")\n",
    "\n",
    "plt.subplot(1, 2, 2)\n",
    "plt.hist(LDA_scores[smarket['Direction'] == 1], bins=20, color='cyan', edgecolor='black', density=True)\n",
    "plt.title(\"Group up\")\n",
    "\n",
    "plt.show()"
   ]
  },
  {
   "cell_type": "markdown",
   "metadata": {},
   "source": [
    "INTERPRET THE RESULTS\n",
    "\n",
    "### Use the LDA model"
   ]
  },
  {
   "cell_type": "code",
   "execution_count": 174,
   "metadata": {},
   "outputs": [
    {
     "name": "stdout",
     "output_type": "stream",
     "text": [
      "Direction  Down   Up\n",
      "Predicted           \n",
      "Down        114  102\n",
      "Up          488  546\n"
     ]
    }
   ],
   "source": [
    "# use the LDA model\n",
    "\n",
    "# The same code as above just changed the probs variable name.\n",
    "probs_3 = LDA_model.predict(smarket[['Lag1', 'Lag2']])\n",
    "\n",
    "smarket[\"Predicted_Directions\"] = np.repeat(\"Down\", smarket.shape[0])\n",
    "\n",
    "smarket.loc[probs_3 > 0.5, \"Predicted_Directions\"] = \"Up\"\n",
    "smarket[\"Direction\"] = smarket[\"Direction\"].map({1: \"Up\", 0: \"Down\"})\n",
    "\n",
    "\n",
    "confusion_matrix = pd.crosstab(smarket[\"Predicted_Directions\"], smarket[\"Direction\"],  rownames=[\"Predicted\"])\n",
    "print(confusion_matrix)\n"
   ]
  },
  {
   "cell_type": "markdown",
   "metadata": {},
   "source": [
    "INTERPRETATION OF RESULTS\n",
    "\n",
    "### perform a QDA\n",
    "\n",
    "Now i can also perform a QDA on the smarket data and analyze the result. For this i will just reuse the code that i created from the \"perform a LDA\" part, i will just change the arguments from LDA to QDA and change to appropriate variable names."
   ]
  },
  {
   "cell_type": "code",
   "execution_count": 175,
   "metadata": {},
   "outputs": [
    {
     "name": "stdout",
     "output_type": "stream",
     "text": [
      "\n",
      " prior probabilities of groups: \n",
      " [0.4816 0.5184]\n",
      "\n",
      " group means: \n",
      " [[ 0.05068605  0.03229734]\n",
      " [-0.03969136 -0.02244444]]\n"
     ]
    }
   ],
   "source": [
    "smarket = pd.read_csv('Smarket.csv') # reload the data\n",
    "\n",
    "smarket[\"Direction\"] = smarket[\"Direction\"].map({'Up': 1, 'Down': 0}) # convert Direction to binary\n",
    "\n",
    "QDA_model = QDA().fit(smarket[['Lag1', 'Lag2']], smarket['Direction'])\n",
    "\n",
    "print(\"\\n prior probabilities of groups: \\n\", QDA_model.priors_)\n",
    "\n",
    "print(\"\\n group means: \\n\", QDA_model.means_)\n"
   ]
  },
  {
   "cell_type": "markdown",
   "metadata": {},
   "source": [
    "INTERPRET THE RESULTS\n",
    "\n",
    "### Use the QDA model"
   ]
  },
  {
   "cell_type": "code",
   "execution_count": 176,
   "metadata": {},
   "outputs": [
    {
     "name": "stdout",
     "output_type": "stream",
     "text": [
      "Direction  Down   Up\n",
      "Predicted           \n",
      "Down        109   94\n",
      "Up          493  554\n"
     ]
    }
   ],
   "source": [
    "# The same code as above just changed the probs variable name.\n",
    "probs_4 = QDA_model.predict(smarket[['Lag1', 'Lag2']])\n",
    "\n",
    "smarket[\"Predicted_Directions\"] = np.repeat(\"Down\", smarket.shape[0])\n",
    "\n",
    "smarket.loc[probs_4 > 0.5, \"Predicted_Directions\"] = \"Up\"\n",
    "smarket[\"Direction\"] = smarket[\"Direction\"].map({1: \"Up\", 0: \"Down\"})\n",
    "\n",
    "confusion_matrix = pd.crosstab(smarket[\"Predicted_Directions\"], smarket[\"Direction\"],  rownames=[\"Predicted\"])\n",
    "print(confusion_matrix)"
   ]
  },
  {
   "cell_type": "markdown",
   "metadata": {},
   "source": [
    "INTERPRETATION OF RESULTS\n",
    "\n",
    "### Use the K-Nearest Neighbors Clustering\n",
    "\n",
    "In this part of the assignment, i will implement and use KNN clustering as a model and provide interpretation of the results that i got.\n",
    "\n",
    "First, i will reload the data. I will then create a filter that sets all years below 2005 to TRUE and all years over 2005 will be FALSE. I will then select all rows where the training set is FALSE (over 2005) and then print the dimensions of this data."
   ]
  },
  {
   "cell_type": "code",
   "execution_count": 177,
   "metadata": {},
   "outputs": [
    {
     "name": "stdout",
     "output_type": "stream",
     "text": [
      "(252, 10)\n"
     ]
    }
   ],
   "source": [
    "smarket = pd.read_csv('Smarket.csv')\n",
    "\n",
    "smarket[\"Direction\"] = smarket[\"Direction\"].map({'Up': 1, 'Down': 0})\n",
    "\n",
    "train_set = smarket[\"Year\"] < 2005\n",
    "smarket_2005 = smarket[~train_set]\n",
    "\n",
    "print(smarket_2005.shape)"
   ]
  },
  {
   "cell_type": "markdown",
   "metadata": {},
   "source": [
    "Now when this is done i have to create training and testing feature sets.\n",
    "\n",
    "I will use the predictors _lag 1_ and _Lag 2_ like earlier but i will now split the training and testing data based on my filter that was defined above. So all of my training data will be when train is TRUE (before 2005) and all of my testing data will be for after 2005.\n",
    "\n",
    "I will then also create the corresponding labels for the response variable which is 'Direction' like before.\n",
    "\n",
    "I can also print the dimensions of all of theese sets as well."
   ]
  },
  {
   "cell_type": "code",
   "execution_count": 178,
   "metadata": {},
   "outputs": [
    {
     "name": "stdout",
     "output_type": "stream",
     "text": [
      "Train X shape: (998, 2)\n",
      "Test X shape: (252, 2)\n",
      "Train y shape: (998,)\n",
      "Test y shape: (252,)\n"
     ]
    }
   ],
   "source": [
    "train_X = smarket.loc[train_set, ['Lag1', 'Lag2']].values\n",
    "test_X = smarket.loc[~train_set, ['Lag1', 'Lag2']].values\n",
    "\n",
    "# Define training and test labels (Direction)\n",
    "train_y = smarket.loc[train_set, \"Direction\"].values\n",
    "test_y = smarket.loc[~train_set, \"Direction\"].values\n",
    "\n",
    "print(\"Train X shape:\", train_X.shape)\n",
    "print(\"Test X shape:\", test_X.shape)\n",
    "print(\"Train y shape:\", train_y.shape)\n",
    "print(\"Test y shape:\", test_y.shape)"
   ]
  },
  {
   "cell_type": "markdown",
   "metadata": {},
   "source": [
    "I can now use this to create a KNN model for N= 1 and N=3."
   ]
  },
  {
   "cell_type": "code",
   "execution_count": 179,
   "metadata": {},
   "outputs": [
    {
     "name": "stdout",
     "output_type": "stream",
     "text": [
      "Test indices: [998, 999, 1000, 1001, 1002, 1003, 1004, 1005, 1006, 1007]\n",
      "     Predicted_Directions  Direction\n",
      "998                    Up          0\n",
      "999                  Down          0\n",
      "1000                   Up          0\n",
      "1001                   Up          1\n",
      "1002                   Up          0\n",
      "1003                 Down          1\n",
      "1004                 Down          0\n",
      "1005                 Down          1\n",
      "1006                 Down          0\n",
      "1007                   Up          1\n",
      "\n",
      "Confusion Matrix:\n",
      " Actual     Down  Up\n",
      "Predicted          \n",
      "Down         43  58\n",
      "Up           68  83\n"
     ]
    }
   ],
   "source": [
    "knn_model = KNeighborsClassifier(n_neighbors=1)\n",
    "knn_model.fit(train_X, train_y)\n",
    "\n",
    "# Predict on test data\n",
    "knn_pred = knn_model.predict(test_X)\n",
    "\n",
    "# Get test set indices\n",
    "test_idx = smarket.index[~train_set]\n",
    "\n",
    "# Debugging step: Ensure test_idx contains valid indices\n",
    "print(\"Test indices:\", test_idx.tolist()[:10])  # Print first 10 test indices\n",
    "\n",
    "# Assign \"Up\" or \"Down\" using np.where\n",
    "smarket.loc[test_idx, \"Predicted_Directions\"] = np.where(knn_pred == 1, \"Up\", \"Down\")\n",
    "\n",
    "# Debugging step: Check assigned predictions\n",
    "print(smarket.loc[test_idx, [\"Predicted_Directions\", \"Direction\"]].head(10))\n",
    "\n",
    "# Ensure 'Direction' column is correctly mapped\n",
    "smarket[\"Direction\"] = smarket[\"Direction\"].map({1: \"Up\", 0: \"Down\"})\n",
    "\n",
    "# Compute confusion matrix using only test set rows\n",
    "conf_matrix = pd.crosstab(\n",
    "    smarket.loc[test_idx, \"Predicted_Directions\"],\n",
    "    smarket.loc[test_idx, \"Direction\"],\n",
    "    rownames=[\"Predicted\"], colnames=[\"Actual\"]\n",
    ")\n",
    "\n",
    "# Print confusion matrix\n",
    "print(\"\\nConfusion Matrix:\\n\", conf_matrix)\n"
   ]
  },
  {
   "cell_type": "code",
   "execution_count": 180,
   "metadata": {},
   "outputs": [
    {
     "name": "stdout",
     "output_type": "stream",
     "text": [
      "(252, 10)\n",
      "Train X shape: (998, 2)\n",
      "Test X shape: (252, 2)\n",
      "Train y shape: (998,)\n",
      "Test y shape: (252,)\n",
      "Test indices: [998, 999, 1000, 1001, 1002, 1003, 1004, 1005, 1006, 1007]\n",
      "     Predicted_Directions  Direction\n",
      "998                  Down          0\n",
      "999                  Down          0\n",
      "1000                 Down          0\n",
      "1001                   Up          1\n",
      "1002                   Up          0\n",
      "1003                 Down          1\n",
      "1004                   Up          0\n",
      "1005                 Down          1\n",
      "1006                   Up          0\n",
      "1007                   Up          1\n",
      "\n",
      "Confusion Matrix:\n",
      " Actual     Down  Up\n",
      "Predicted          \n",
      "Down         48  55\n",
      "Up           63  86\n"
     ]
    }
   ],
   "source": [
    "smarket = pd.read_csv('Smarket.csv')\n",
    "\n",
    "smarket[\"Direction\"] = smarket[\"Direction\"].map({'Up': 1, 'Down': 0})\n",
    "\n",
    "train_set = smarket[\"Year\"] < 2005\n",
    "smarket_2005 = smarket[~train_set]\n",
    "\n",
    "print(smarket_2005.shape)\n",
    "\n",
    "train_X = smarket.loc[train_set, ['Lag1', 'Lag2']].values\n",
    "test_X = smarket.loc[~train_set, ['Lag1', 'Lag2']].values\n",
    "\n",
    "# Define training and test labels (Direction)\n",
    "train_y = smarket.loc[train_set, \"Direction\"].values\n",
    "test_y = smarket.loc[~train_set, \"Direction\"].values\n",
    "\n",
    "print(\"Train X shape:\", train_X.shape)\n",
    "print(\"Test X shape:\", test_X.shape)\n",
    "print(\"Train y shape:\", train_y.shape)\n",
    "print(\"Test y shape:\", test_y.shape)\n",
    "\n",
    "knn_model = KNeighborsClassifier(n_neighbors=3)\n",
    "knn_model.fit(train_X, train_y)\n",
    "\n",
    "# Predict on test data\n",
    "knn_pred = knn_model.predict(test_X)\n",
    "\n",
    "# Get test set indices\n",
    "test_idx = smarket.index[~train_set]\n",
    "\n",
    "# Debugging step: Ensure test_idx contains valid indices\n",
    "print(\"Test indices:\", test_idx.tolist()[:10])  # Print first 10 test indices\n",
    "\n",
    "# Assign \"Up\" or \"Down\" using np.where\n",
    "smarket.loc[test_idx, \"Predicted_Directions\"] = np.where(knn_pred == 1, \"Up\", \"Down\")\n",
    "\n",
    "# Debugging step: Check assigned predictions\n",
    "print(smarket.loc[test_idx, [\"Predicted_Directions\", \"Direction\"]].head(10))\n",
    "\n",
    "# Ensure 'Direction' column is correctly mapped\n",
    "smarket[\"Direction\"] = smarket[\"Direction\"].map({1: \"Up\", 0: \"Down\"})\n",
    "\n",
    "# Compute confusion matrix using only test set rows\n",
    "conf_matrix = pd.crosstab(\n",
    "    smarket.loc[test_idx, \"Predicted_Directions\"],\n",
    "    smarket.loc[test_idx, \"Direction\"],\n",
    "    rownames=[\"Predicted\"], colnames=[\"Actual\"]\n",
    ")\n",
    "\n",
    "# Print confusion matrix\n",
    "print(\"\\nConfusion Matrix:\\n\", conf_matrix)\n"
   ]
  },
  {
   "cell_type": "markdown",
   "metadata": {},
   "source": [
    "INTERPRETAION OF RESULT"
   ]
  }
 ],
 "metadata": {
  "kernelspec": {
   "display_name": "Python 3",
   "language": "python",
   "name": "python3"
  },
  "language_info": {
   "codemirror_mode": {
    "name": "ipython",
    "version": 3
   },
   "file_extension": ".py",
   "mimetype": "text/x-python",
   "name": "python",
   "nbconvert_exporter": "python",
   "pygments_lexer": "ipython3",
   "version": "3.13.0"
  }
 },
 "nbformat": 4,
 "nbformat_minor": 2
}
