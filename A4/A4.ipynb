{
 "cells": [
  {
   "cell_type": "markdown",
   "metadata": {},
   "source": [
    "# Machine learning - Assignment 4 - Classification\n",
    "____\n",
    "**Author**: Kemal Cikota\n",
    "\n",
    "**Course**: Machine learning\n",
    "____\n",
    "\n",
    "## Introduction\n",
    "\n",
    "In tis fuckin assinemt type sit.\n",
    "\n",
    "## Conceptual Questions\n",
    "\n",
    "ANswers to conceptual questions.\n",
    "\n",
    "## Practical\n",
    "\n",
    "Short intro about what is about to happen.\n",
    "\n",
    "### Load the data and get an overview of the data"
   ]
  },
  {
   "cell_type": "code",
   "execution_count": 1,
   "metadata": {},
   "outputs": [],
   "source": [
    "import pandas as pd # Never coded in R before but this seems to be the equivalent of library(pandas) in R\n",
    "import seaborn as sns\n",
    "import matplotlib.pyplot as plt\n",
    "import scipy.stats as stats\n",
    "import statsmodels.api as sm\n",
    "\n",
    "# load Smarket.csv\n",
    "boston = pd.read_csv('Smarket.csv')\n",
    "\n",
    "# Set pandas option to display all columns\n",
    "pd.set_option('display.max_columns', None)"
   ]
  },
  {
   "cell_type": "code",
   "execution_count": null,
   "metadata": {},
   "outputs": [],
   "source": []
  }
 ],
 "metadata": {
  "kernelspec": {
   "display_name": "Python 3",
   "language": "python",
   "name": "python3"
  },
  "language_info": {
   "codemirror_mode": {
    "name": "ipython",
    "version": 3
   },
   "file_extension": ".py",
   "mimetype": "text/x-python",
   "name": "python",
   "nbconvert_exporter": "python",
   "pygments_lexer": "ipython3",
   "version": "3.10.11"
  }
 },
 "nbformat": 4,
 "nbformat_minor": 2
}
