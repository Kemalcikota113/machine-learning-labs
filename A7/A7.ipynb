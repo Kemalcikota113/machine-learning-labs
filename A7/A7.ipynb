{
 "cells": [
  {
   "cell_type": "markdown",
   "metadata": {},
   "source": [
    "# Machine learning - Assignment 7 - Support vector classifiers\n",
    "____\n",
    "**Author**: Kemal Cikota\n",
    "\n",
    "**Course**: Machine learning\n",
    "____\n",
    "\n",
    "## Introduction\n",
    "\n",
    "In this assignment, i will work with Support vector classifiers (SVMs). I will show how to learn and assess SVM classifiers and how to apply SVM on data and also give interpretations of how SVM can affect performance in models. This assignment is split in to two major parts, a conceptual and theoreticall part where i answer theory questions about SVM and the latter part of the assignment is a practical part where i actually implement and apply SVM.\n",
    "\n",
    "## Conceptual Questions\n",
    "\n",
    "**1. What is the intuition behind SVMs and how do they work?**\n",
    "\n",
    "\n",
    "\n",
    "**2. Are SVMs always robust regarding overfitting and noisy data? Discuss your answer considering apects such as the choice of kernel and the degree of noise in the data.**\n",
    "\n",
    "\n",
    "\n",
    "## Practical\n",
    "\n",
    "For the practical part of the assignment, i will begin by generating data, then learn support vector classifiers from that data and then in the end use the Khan dataset in order to apply SVM.\n",
    "\n",
    "### Generate data and get an overview of the data\n",
    "\n",
    "We will begin by generating the observations belonging to the two classes.\n",
    "\n"
   ]
  }
 ],
 "metadata": {
  "language_info": {
   "name": "python"
  }
 },
 "nbformat": 4,
 "nbformat_minor": 2
}
