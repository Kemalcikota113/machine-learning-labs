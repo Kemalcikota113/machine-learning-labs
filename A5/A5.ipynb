{
 "cells": [
  {
   "cell_type": "markdown",
   "metadata": {},
   "source": [
    "# Machine learning - Assignment 5 - The bootstrap method\n",
    "____\n",
    "**Author**: Kemal Cikota\n",
    "\n",
    "**Course**: Machine learning\n",
    "____\n",
    "\n",
    "## Introduction\n",
    "\n",
    "In this assignment, i will explore the use of **bootstrap methods** for estimating the accuracy of regression model parameters. The difference between bootstrapping methods and regular statistical methods for estimating performance metrics is that bootstrap does not rely on strict assumptions on the distribution of the data. This report will include a conceptual/theoreticall part, which includes a discussion about k-fold cross validation and one practical part i apply bootstrapping methods to estimate standard errors for linear and quadratic regression models.\n",
    "\n",
    "I am a complete nerd when it comes to cars so this dataset was quite intuitive and easy for me to understand but for those that dont know, [this source](https://islp.readthedocs.io/en/latest/datasets/Auto.html) can be used as a reference for what the features mean. Theese short descriptions can be of great help.\n",
    "\n",
    "## Conceptual Questions\n",
    "\n",
    "**1. explain how k-fold cross-validation is implemented**\n",
    "K-fold cross-validation is a resampling technique used to evaluate the performance of a model while making efficient use of avaliable data, here is how it may be implemented.\n",
    "\n",
    "- <ins>Divide data</ins>: The data should first be divided in to k equal parts. Theese k amount of parts are also called the \"folds\", hence the name, \"K-fold\".\n",
    "- <ins>Train and validate (iteratively)</ins>: For each iteration, one of the folds is used as the validation set, while the other remaining folds are combined to form the training set. The model will be trained with theese combined training folds and evaluated on the validation fold. This process will repeat K-amounts of times, with each fold servind as the validation set just once.\n",
    "- <ins>Compute performance metrics</ins>: After theese K-amounts of iterations, the performance metrics (such as $R^2$ or MSE) from each iteration are averaged to provide an overall estimate.\n",
    "\n",
    "The amounts of K we have in practice can varry a lot depending on the data and circumstances we are dealing with but it is often common to use something like K=5 or K=10 but higher K's like 15 can also be used. There is also a special case of K-fold called \"Leave One Out Cross Validation\" (LOOCV) where k=N where N is the total number of data points. This is often used when the dataset is relatively small because LOOCV makes sure that every possible training sample is used, which maximizes the amount of data for training the model.\n",
    "\n",
    "In general though, K-fold is useful because its ability to \"average out\" the performance metrics so it helps reduce overfitting compared to just single train/test split metric measuerment. \n",
    "\n",
    "**2. What are advantages and disadvantages of k-fold crossvalidation relative to the validation set approach?**\n",
    "So i have already discusssed what K-fold is and what it roughly does in the previous conceptual task, the validation set approach is just a simple train/test split where we have a random seed that randomly splits the data in to one training and one validation set with just one iteration.\n",
    "\n",
    "The advantages of using K-fold over the standard validation set approaches are:\n",
    "- Instead of using a fixed portion of the data for validation, each datapoint gets a chance to be in the validation set if we use K-folds, this ensures that the model is trained on more data and in different orders which leads to better generalization if we were to have some arbitrary new data.\n",
    "- Because K-fold has an ability to \"average out\" or \"flatten\" the performance measurements, the end value we get for some metric (for example $R^2$) is more stable and reliable because it is the final average value of multiple iteration which reduces variances compared to validation setting. This is important because the validation set approach can sometimes make a model look much better then it actually is because the split is \"lucky\" where the validation set contains easy examples. This can also work the other way around for \"unlucky\" splits so thats why its good to have an average.\n",
    "- Training the model of different subsets of data reduces the likelihood that a model will be overfitted to a particular training set because it is trained on more variety of data.\n",
    "\n",
    "The disadvantages of using K-fold over the standard validation set approaches are:\n",
    "- doing K-fold requires K times more computation than a single validation set approach. So if we have K=10 or even higher, then that means that K-fold would use 10 times or more data to train the model than if we were just to have a constant split and train once. So for complex datasets that includes a lot of features that are complex, this can be very impractical.\n",
    "- Sometimes, it can be hard to find the best K to use for some dataset. And it is in general harder to implement  K-fold than a normal validation set approach as it requires us to partition the data well and loop over it in multiple iterations.\n",
    "\n",
    "**3. What are advantages and disadvantages of k-fold crossvalidation relative LOOCV?**\n",
    "\n",
    "The advantages of using K-fold over LOOCV are:\n",
    "- Because, in LOOCV we use K=N where N is the amount of datapoints in our data, it can be very computationally heavy for larger datasets as for regular K-fold we use something like K=5 or K=10 usually. This makes LOOCV less reasonable to use for larger datasets because it can require several times more data than even K=10.\n",
    "- Because LOOCV uses all of the datapoints as folds for the iteration, it can sometimes lead to overfitting since the training set in each iteration is almost the entire dataset while K-fold has more diversity in the training subsets for each iteration.\n",
    "- K-fold gives a much smoother estimate by averaging over multiple folds with more varied training sets as compared to LOOCV that produces performance values that have high variance because each validation set only consists of one single data point.\n",
    "\n",
    "The disadvantages of using K-fold over LOOCV are:\n",
    "- Even though K-fold has less variance between the iterations as compared to LOOCV, K-fold will have a higher bias in the performance estimates because the LOOCV uses almost all the data for training which makes the model very similar to the one trained on the full dataset.\n",
    "- because in K-fold we choose K ourselves, it meaans that we have some room for error in the evaluation since the outcome is dependent on K which is our choice. This makes the LOOCV method somewhat deterministic since the uses every single data point excactly once. \n",
    "\n",
    "## Practical\n",
    "\n",
    "For the practical part of the assignment, i have to work with the auto.csv dataset which consists of some information about cars like the name and year but we also have some stats about each car like weight, horsepower, miles per galon (MPG) and engine displacement. With this data i will use bootstraping methods to estimate the standard errors of parameters of a linear regression and quadratic regression models predictive ability.\n",
    "\n",
    "### Load the data and get an overview of the data\n"
   ]
  },
  {
   "cell_type": "code",
   "execution_count": 37,
   "metadata": {},
   "outputs": [],
   "source": [
    "import pandas as pd\n",
    "import seaborn as sns\n",
    "import matplotlib.pyplot as plt\n",
    "import scipy.stats as stats\n",
    "import statsmodels.api as sm\n",
    "import numpy as np\n",
    "\n",
    "from sklearn.utils import resample\n",
    "\n",
    "# load auto.csv\n",
    "auto = pd.read_csv('Auto.csv')\n",
    "\n",
    "# Set pandas option to display all columns\n",
    "pd.set_option('display.max_columns', None)"
   ]
  },
  {
   "cell_type": "markdown",
   "metadata": {},
   "source": [
    "Once the dataset is loaded, we can display the number of predictors (variables/columns) and their names."
   ]
  },
  {
   "cell_type": "code",
   "execution_count": 38,
   "metadata": {},
   "outputs": [
    {
     "name": "stdout",
     "output_type": "stream",
     "text": [
      "10\n",
      "['Unnamed: 0', 'mpg', 'cylinders', 'displacement', 'horsepower', 'weight', 'acceleration', 'year', 'origin', 'name']\n",
      "\n"
     ]
    }
   ],
   "source": [
    "numFeatures = auto.shape[1]\n",
    "print(numFeatures)\n",
    "\n",
    "featureNames = auto.columns.tolist()\n",
    "print(featureNames, end=\"\\n\\n\")"
   ]
  },
  {
   "cell_type": "markdown",
   "metadata": {},
   "source": [
    "We can now also print a statistic summary of the predictors and responses."
   ]
  },
  {
   "cell_type": "code",
   "execution_count": 39,
   "metadata": {},
   "outputs": [
    {
     "name": "stdout",
     "output_type": "stream",
     "text": [
      "       Unnamed: 0         mpg   cylinders  displacement  horsepower  \\\n",
      "count  392.000000  392.000000  392.000000    392.000000  392.000000   \n",
      "mean   198.520408   23.445918    5.471939    194.411990  104.469388   \n",
      "std    114.438067    7.805007    1.705783    104.644004   38.491160   \n",
      "min      1.000000    9.000000    3.000000     68.000000   46.000000   \n",
      "25%     99.750000   17.000000    4.000000    105.000000   75.000000   \n",
      "50%    198.500000   22.750000    4.000000    151.000000   93.500000   \n",
      "75%    296.250000   29.000000    8.000000    275.750000  126.000000   \n",
      "max    397.000000   46.600000    8.000000    455.000000  230.000000   \n",
      "\n",
      "            weight  acceleration        year      origin  \n",
      "count   392.000000    392.000000  392.000000  392.000000  \n",
      "mean   2977.584184     15.541327   75.979592    1.576531  \n",
      "std     849.402560      2.758864    3.683737    0.805518  \n",
      "min    1613.000000      8.000000   70.000000    1.000000  \n",
      "25%    2225.250000     13.775000   73.000000    1.000000  \n",
      "50%    2803.500000     15.500000   76.000000    1.000000  \n",
      "75%    3614.750000     17.025000   79.000000    2.000000  \n",
      "max    5140.000000     24.800000   82.000000    3.000000  \n",
      "\n"
     ]
    }
   ],
   "source": [
    "print(auto.describe(), end=\"\\n\\n\")"
   ]
  },
  {
   "cell_type": "markdown",
   "metadata": {},
   "source": [
    "We can now also display the total number of datapoints"
   ]
  },
  {
   "cell_type": "code",
   "execution_count": 40,
   "metadata": {},
   "outputs": [
    {
     "name": "stdout",
     "output_type": "stream",
     "text": [
      "total amount of datapoints:  392\n",
      "\n"
     ]
    }
   ],
   "source": [
    "print(\"total amount of datapoints: \", auto.shape[0], end=\"\\n\\n\")"
   ]
  },
  {
   "cell_type": "markdown",
   "metadata": {},
   "source": [
    "We can now also display the entire dataset."
   ]
  },
  {
   "cell_type": "code",
   "execution_count": 41,
   "metadata": {},
   "outputs": [
    {
     "data": {
      "text/html": [
       "<div>\n",
       "<style scoped>\n",
       "    .dataframe tbody tr th:only-of-type {\n",
       "        vertical-align: middle;\n",
       "    }\n",
       "\n",
       "    .dataframe tbody tr th {\n",
       "        vertical-align: top;\n",
       "    }\n",
       "\n",
       "    .dataframe thead th {\n",
       "        text-align: right;\n",
       "    }\n",
       "</style>\n",
       "<table border=\"1\" class=\"dataframe\">\n",
       "  <thead>\n",
       "    <tr style=\"text-align: right;\">\n",
       "      <th></th>\n",
       "      <th>Unnamed: 0</th>\n",
       "      <th>mpg</th>\n",
       "      <th>cylinders</th>\n",
       "      <th>displacement</th>\n",
       "      <th>horsepower</th>\n",
       "      <th>weight</th>\n",
       "      <th>acceleration</th>\n",
       "      <th>year</th>\n",
       "      <th>origin</th>\n",
       "      <th>name</th>\n",
       "    </tr>\n",
       "  </thead>\n",
       "  <tbody>\n",
       "    <tr>\n",
       "      <th>0</th>\n",
       "      <td>1</td>\n",
       "      <td>18.0</td>\n",
       "      <td>8</td>\n",
       "      <td>307.0</td>\n",
       "      <td>130</td>\n",
       "      <td>3504</td>\n",
       "      <td>12.0</td>\n",
       "      <td>70</td>\n",
       "      <td>1</td>\n",
       "      <td>chevrolet chevelle malibu</td>\n",
       "    </tr>\n",
       "    <tr>\n",
       "      <th>1</th>\n",
       "      <td>2</td>\n",
       "      <td>15.0</td>\n",
       "      <td>8</td>\n",
       "      <td>350.0</td>\n",
       "      <td>165</td>\n",
       "      <td>3693</td>\n",
       "      <td>11.5</td>\n",
       "      <td>70</td>\n",
       "      <td>1</td>\n",
       "      <td>buick skylark 320</td>\n",
       "    </tr>\n",
       "    <tr>\n",
       "      <th>2</th>\n",
       "      <td>3</td>\n",
       "      <td>18.0</td>\n",
       "      <td>8</td>\n",
       "      <td>318.0</td>\n",
       "      <td>150</td>\n",
       "      <td>3436</td>\n",
       "      <td>11.0</td>\n",
       "      <td>70</td>\n",
       "      <td>1</td>\n",
       "      <td>plymouth satellite</td>\n",
       "    </tr>\n",
       "    <tr>\n",
       "      <th>3</th>\n",
       "      <td>4</td>\n",
       "      <td>16.0</td>\n",
       "      <td>8</td>\n",
       "      <td>304.0</td>\n",
       "      <td>150</td>\n",
       "      <td>3433</td>\n",
       "      <td>12.0</td>\n",
       "      <td>70</td>\n",
       "      <td>1</td>\n",
       "      <td>amc rebel sst</td>\n",
       "    </tr>\n",
       "    <tr>\n",
       "      <th>4</th>\n",
       "      <td>5</td>\n",
       "      <td>17.0</td>\n",
       "      <td>8</td>\n",
       "      <td>302.0</td>\n",
       "      <td>140</td>\n",
       "      <td>3449</td>\n",
       "      <td>10.5</td>\n",
       "      <td>70</td>\n",
       "      <td>1</td>\n",
       "      <td>ford torino</td>\n",
       "    </tr>\n",
       "    <tr>\n",
       "      <th>...</th>\n",
       "      <td>...</td>\n",
       "      <td>...</td>\n",
       "      <td>...</td>\n",
       "      <td>...</td>\n",
       "      <td>...</td>\n",
       "      <td>...</td>\n",
       "      <td>...</td>\n",
       "      <td>...</td>\n",
       "      <td>...</td>\n",
       "      <td>...</td>\n",
       "    </tr>\n",
       "    <tr>\n",
       "      <th>387</th>\n",
       "      <td>393</td>\n",
       "      <td>27.0</td>\n",
       "      <td>4</td>\n",
       "      <td>140.0</td>\n",
       "      <td>86</td>\n",
       "      <td>2790</td>\n",
       "      <td>15.6</td>\n",
       "      <td>82</td>\n",
       "      <td>1</td>\n",
       "      <td>ford mustang gl</td>\n",
       "    </tr>\n",
       "    <tr>\n",
       "      <th>388</th>\n",
       "      <td>394</td>\n",
       "      <td>44.0</td>\n",
       "      <td>4</td>\n",
       "      <td>97.0</td>\n",
       "      <td>52</td>\n",
       "      <td>2130</td>\n",
       "      <td>24.6</td>\n",
       "      <td>82</td>\n",
       "      <td>2</td>\n",
       "      <td>vw pickup</td>\n",
       "    </tr>\n",
       "    <tr>\n",
       "      <th>389</th>\n",
       "      <td>395</td>\n",
       "      <td>32.0</td>\n",
       "      <td>4</td>\n",
       "      <td>135.0</td>\n",
       "      <td>84</td>\n",
       "      <td>2295</td>\n",
       "      <td>11.6</td>\n",
       "      <td>82</td>\n",
       "      <td>1</td>\n",
       "      <td>dodge rampage</td>\n",
       "    </tr>\n",
       "    <tr>\n",
       "      <th>390</th>\n",
       "      <td>396</td>\n",
       "      <td>28.0</td>\n",
       "      <td>4</td>\n",
       "      <td>120.0</td>\n",
       "      <td>79</td>\n",
       "      <td>2625</td>\n",
       "      <td>18.6</td>\n",
       "      <td>82</td>\n",
       "      <td>1</td>\n",
       "      <td>ford ranger</td>\n",
       "    </tr>\n",
       "    <tr>\n",
       "      <th>391</th>\n",
       "      <td>397</td>\n",
       "      <td>31.0</td>\n",
       "      <td>4</td>\n",
       "      <td>119.0</td>\n",
       "      <td>82</td>\n",
       "      <td>2720</td>\n",
       "      <td>19.4</td>\n",
       "      <td>82</td>\n",
       "      <td>1</td>\n",
       "      <td>chevy s-10</td>\n",
       "    </tr>\n",
       "  </tbody>\n",
       "</table>\n",
       "<p>392 rows × 10 columns</p>\n",
       "</div>"
      ],
      "text/plain": [
       "     Unnamed: 0   mpg  cylinders  displacement  horsepower  weight  \\\n",
       "0             1  18.0          8         307.0         130    3504   \n",
       "1             2  15.0          8         350.0         165    3693   \n",
       "2             3  18.0          8         318.0         150    3436   \n",
       "3             4  16.0          8         304.0         150    3433   \n",
       "4             5  17.0          8         302.0         140    3449   \n",
       "..          ...   ...        ...           ...         ...     ...   \n",
       "387         393  27.0          4         140.0          86    2790   \n",
       "388         394  44.0          4          97.0          52    2130   \n",
       "389         395  32.0          4         135.0          84    2295   \n",
       "390         396  28.0          4         120.0          79    2625   \n",
       "391         397  31.0          4         119.0          82    2720   \n",
       "\n",
       "     acceleration  year  origin                       name  \n",
       "0            12.0    70       1  chevrolet chevelle malibu  \n",
       "1            11.5    70       1          buick skylark 320  \n",
       "2            11.0    70       1         plymouth satellite  \n",
       "3            12.0    70       1              amc rebel sst  \n",
       "4            10.5    70       1                ford torino  \n",
       "..            ...   ...     ...                        ...  \n",
       "387          15.6    82       1            ford mustang gl  \n",
       "388          24.6    82       2                  vw pickup  \n",
       "389          11.6    82       1              dodge rampage  \n",
       "390          18.6    82       1                ford ranger  \n",
       "391          19.4    82       1                 chevy s-10  \n",
       "\n",
       "[392 rows x 10 columns]"
      ]
     },
     "execution_count": 41,
     "metadata": {},
     "output_type": "execute_result"
    }
   ],
   "source": [
    "auto"
   ]
  },
  {
   "cell_type": "markdown",
   "metadata": {},
   "source": [
    "We can now compute the pairwise correlation of the predictors in the dataset. We can do this by plotting the correlation matrix between the pairwise features. In the example, i can see that the 'name' feature was dropped so i did the same in my demonstration."
   ]
  },
  {
   "cell_type": "code",
   "execution_count": 42,
   "metadata": {},
   "outputs": [
    {
     "data": {
      "image/png": "[encoded data removed]",
      "text/plain": [
       "<Figure size 1000x800 with 2 Axes>"
      ]
     },
     "metadata": {},
     "output_type": "display_data"
    }
   ],
   "source": [
    "# drop direction column\n",
    "auto = auto.drop(columns=['name'])\n",
    "\n",
    "correlation_matrix = auto.corr()\n",
    "\n",
    "plt.figure(figsize=(10, 8))\n",
    "sns.heatmap(correlation_matrix, annot=True, cmap='coolwarm', center=0)\n",
    "plt.title(\"Correlation Matrix\")\n",
    "plt.show()"
   ]
  },
  {
   "cell_type": "code",
   "execution_count": 43,
   "metadata": {},
   "outputs": [
    {
     "name": "stdout",
     "output_type": "stream",
     "text": [
      "Auto dataset regression coefficients: \n",
      "\n",
      " const         39.935861\n",
      "horsepower    -0.157845\n",
      "dtype: float64\n"
     ]
    }
   ],
   "source": [
    "auto = pd.read_csv('Auto.csv')\n",
    "auto['horsepower'] = pd.to_numeric(auto['horsepower'], errors='coerce')\n",
    "auto = auto.dropna()\n",
    "\n",
    "\n",
    "def boot_fn(data, indices):\n",
    "\n",
    "    sample = data.iloc[indices]\n",
    "    X = sample[\"horsepower\"]\n",
    "    y = sample[\"mpg\"]\n",
    "\n",
    "    X = sm.add_constant(X)\n",
    "    model = sm.OLS(y, X).fit()\n",
    "\n",
    "    return model.params\n",
    "\n",
    "indicies = np.arange(len(auto))\n",
    "print(\"Auto dataset regression coefficients: \\n\\n\", boot_fn(auto, indicies))"
   ]
  },
  {
   "cell_type": "code",
   "execution_count": 44,
   "metadata": {},
   "outputs": [
    {
     "name": "stdout",
     "output_type": "stream",
     "text": [
      "Bootstrap 1 regression coefficients: \n",
      "\n",
      " const         39.658479\n",
      "horsepower    -0.155898\n",
      "dtype: float64\n"
     ]
    }
   ],
   "source": [
    "np.random.seed(1)\n",
    "\n",
    "bootstrap_indicies = np.random.choice(indicies, len(auto), replace=True)\n",
    "print(\"Bootstrap 1 regression coefficients: \\n\\n\", boot_fn(auto, bootstrap_indicies))"
   ]
  },
  {
   "cell_type": "code",
   "execution_count": 45,
   "metadata": {},
   "outputs": [
    {
     "name": "stdout",
     "output_type": "stream",
     "text": [
      "Bootstrap 2 regression coefficients: \n",
      "\n",
      " const         40.733271\n",
      "horsepower    -0.163901\n",
      "dtype: float64\n"
     ]
    }
   ],
   "source": [
    "bootstrap_indicies = np.random.choice(indicies, len(auto), replace=True)\n",
    "print(\"Bootstrap 2 regression coefficients: \\n\\n\", boot_fn(auto, bootstrap_indicies))"
   ]
  },
  {
   "cell_type": "code",
   "execution_count": 46,
   "metadata": {},
   "outputs": [
    {
     "name": "stdout",
     "output_type": "stream",
     "text": [
      "\n",
      "Original Coefficients: \n",
      "const         39.935861\n",
      "horsepower    -0.157845\n",
      "dtype: float64\n",
      "\n",
      "Bootstrap Statistics:\n",
      "                 Original           Bias     Std. Error\n",
      "Intercept       39.963973       0.028112       0.825412\n",
      "Horsepower      -0.158307      -0.000462       0.007135\n"
     ]
    },
    {
     "name": "stderr",
     "output_type": "stream",
     "text": [
      "C:\\Users\\kemal\\AppData\\Local\\Temp\\ipykernel_38896\\840415305.py:41: FutureWarning: Series.__getitem__ treating keys as positions is deprecated. In a future version, integer keys will always be treated as labels (consistent with DataFrame behavior). To access a value by position, use `ser.iloc[pos]`\n",
      "  print(f\"{coef_name:<10}{bootstrap_means[i]:>15.6f}{bias[i]:>15.6f}{se_bootstrap[i]:>15.6f}\")\n"
     ]
    }
   ],
   "source": [
    "X = auto[\"horsepower\"]\n",
    "y = auto[\"mpg\"]\n",
    "\n",
    "X = sm.add_constant(X)\n",
    "model = sm.OLS(y, X).fit()\n",
    "\n",
    "original_coefs = model.params\n",
    "model_se = model.bse\n",
    "\n",
    "print(\"\\nOriginal Coefficients: \")\n",
    "print(original_coefs)\n",
    "\n",
    "def bootstrap_lr(X, y, n_bootstrap=1000):\n",
    "    coef_samples = []\n",
    "    \n",
    "    for i in range(n_bootstrap):\n",
    "        X_resampled, y_resampled = resample(X, y, replace=True)\n",
    "        model_resampled = sm.OLS(y_resampled, X_resampled).fit()\n",
    "        coef_samples.append(model_resampled.params)\n",
    "\n",
    "    coef_samples = np.array(coef_samples)\n",
    "    \n",
    "    bootstrap_means = np.mean(coef_samples, axis=0)\n",
    "    se_bootstrap = np.std(coef_samples, axis=0)\n",
    "    bias = bootstrap_means - original_coefs\n",
    "\n",
    "    return bootstrap_means, bias, se_bootstrap\n",
    "\n",
    "X = auto[\"horsepower\"]\n",
    "y = auto[\"mpg\"]\n",
    "\n",
    "X = sm.add_constant(X)\n",
    "model = sm.OLS(y, X).fit()\n",
    "\n",
    "bootstrap_means, bias, se_bootstrap = bootstrap_lr(X, y)\n",
    "\n",
    "# Print Bootstrap Statistics similar to the image\n",
    "print(\"\\nBootstrap Statistics:\")\n",
    "print(f\"{'':<10}{'Original':>15}{'Bias':>15}{'Std. Error':>15}\")\n",
    "for i, coef_name in enumerate([\"Intercept\", \"Horsepower\"]):\n",
    "    print(f\"{coef_name:<10}{bootstrap_means[i]:>15.6f}{bias[i]:>15.6f}{se_bootstrap[i]:>15.6f}\")"
   ]
  },
  {
   "cell_type": "code",
   "execution_count": 47,
   "metadata": {},
   "outputs": [
    {
     "name": "stdout",
     "output_type": "stream",
     "text": [
      "                            OLS Regression Results                            \n",
      "==============================================================================\n",
      "Dep. Variable:                    mpg   R-squared:                       0.606\n",
      "Model:                            OLS   Adj. R-squared:                  0.605\n",
      "Method:                 Least Squares   F-statistic:                     599.7\n",
      "Date:                Mon, 03 Mar 2025   Prob (F-statistic):           7.03e-81\n",
      "Time:                        09:06:04   Log-Likelihood:                -1178.7\n",
      "No. Observations:                 392   AIC:                             2361.\n",
      "Df Residuals:                     390   BIC:                             2369.\n",
      "Df Model:                           1                                         \n",
      "Covariance Type:            nonrobust                                         \n",
      "==============================================================================\n",
      "                 coef    std err          t      P>|t|      [0.025      0.975]\n",
      "------------------------------------------------------------------------------\n",
      "const         39.9359      0.717     55.660      0.000      38.525      41.347\n",
      "horsepower    -0.1578      0.006    -24.489      0.000      -0.171      -0.145\n",
      "==============================================================================\n",
      "Omnibus:                       16.432   Durbin-Watson:                   0.920\n",
      "Prob(Omnibus):                  0.000   Jarque-Bera (JB):               17.305\n",
      "Skew:                           0.492   Prob(JB):                     0.000175\n",
      "Kurtosis:                       3.299   Cond. No.                         322.\n",
      "==============================================================================\n",
      "\n",
      "Notes:\n",
      "[1] Standard Errors assume that the covariance matrix of the errors is correctly specified.\n"
     ]
    }
   ],
   "source": [
    "model.summary()\n",
    "print(model.summary())"
   ]
  },
  {
   "cell_type": "markdown",
   "metadata": {},
   "source": [
    "From the correlation matrix we can see that we got strong negative correlation between mpg and horsepower, weight and displacement. This makes sence as the weight of the car increases it perhaps needs a stronger engine and this engine will perhaps consume more fuel on average. This is why we used mpg as a response variable to horsepower.\n",
    "\n",
    "We can also see that the variables cylinders, displacement and horsepower are highly positively correlated with each other. \n",
    "\n",
    "We can then see that when we apply the regular least squares OLS regression on the full dataset, i can use the model.params function in order to return the intercept and slope from the 392 observations and we got the following:\n",
    "- Intercept $(\\beta_0) = 39.94$\n",
    "- slope $(\\beta_1) = -0.1578$\n",
    "\n",
    "This means that when horsepower is 0, the expected mpg would be 39.94. And also each additional unit of horsepower would decrease mpg by 0.1578 units on average, which confirms the negative relationship in the correlation analysis.\n",
    "\n",
    "In order to validate this result that we got from OLS, i used bootstrapping to generate alternative regression estimates. I did this by randomly sampling data and computing new estimates for $\\beta_0$ and $\\beta_1$ and then running the process multiple times to get an empirical distribution of coefficients. From that we got a slight variation of the original OLS estimates, which shows that our model is stable.\n",
    "\n",
    "We could also see from the standard errors that the bootstrapping standard errors were slightly larger which menas that bootstrapping takes sample variability in to account which OLS built-in probably does not.\n",
    "\n",
    "\n",
    "### Estimating the accurcay of a quadratic regression model"
   ]
  },
  {
   "cell_type": "code",
   "execution_count": 48,
   "metadata": {},
   "outputs": [
    {
     "name": "stdout",
     "output_type": "stream",
     "text": [
      "\n",
      "Original Quadratic Coefficients:\n",
      "const           56.900100\n",
      "horsepower      -0.466190\n",
      "horsepower^2     0.001231\n",
      "dtype: float64\n",
      "\n",
      "Bootstrap Statistics:\n",
      "                 Original           Bias     Std. Error\n",
      "Intercept       57.040104       0.140005       2.094747\n",
      "Horsepower      -0.468068      -0.001878       0.033261\n",
      "Horsepower^2       0.001237       0.000006       0.000120\n"
     ]
    },
    {
     "name": "stderr",
     "output_type": "stream",
     "text": [
      "C:\\Users\\kemal\\AppData\\Local\\Temp\\ipykernel_38896\\3277305726.py:41: FutureWarning: Series.__getitem__ treating keys as positions is deprecated. In a future version, integer keys will always be treated as labels (consistent with DataFrame behavior). To access a value by position, use `ser.iloc[pos]`\n",
      "  print(f\"{coef_name:<10}{bootstrap_means_quad[i]:>15.6f}{bias_quad[i]:>15.6f}{se_bootstrap_quad[i]:>15.6f}\")\n"
     ]
    }
   ],
   "source": [
    "X = auto[\"horsepower\"]\n",
    "y = auto[\"mpg\"]\n",
    "\n",
    "X_quad = pd.DataFrame({\n",
    "    \"const\": 1,                # intercept\n",
    "    \"horsepower\": X,\n",
    "    \"horsepower^2\": X**2\n",
    "})\n",
    "\n",
    "model_quad = sm.OLS(y, X_quad).fit()\n",
    "original_coefs_quad = model_quad.params\n",
    "\n",
    "print(\"\\nOriginal Quadratic Coefficients:\")\n",
    "print(original_coefs_quad)\n",
    "\n",
    "def bootstrap_lr_quadratic(X_quad, y, n_bootstrap=1000):\n",
    "    coef_samples = []\n",
    "    \n",
    "    for i in range(n_bootstrap):\n",
    "        data_resampled = resample(pd.concat([X_quad, y], axis=1), replace=True)\n",
    "\n",
    "        X_resampled = data_resampled[X_quad.columns]\n",
    "        y_resampled = data_resampled[y.name]\n",
    "\n",
    "        model_resampled = sm.OLS(y_resampled, X_resampled).fit()\n",
    "        coef_samples.append(model_resampled.params)\n",
    "    \n",
    "    coef_samples = np.array(coef_samples)\n",
    "    \n",
    "    bootstrap_means = coef_samples.mean(axis=0)\n",
    "    se_bootstrap = coef_samples.std(axis=0)\n",
    "    bias = bootstrap_means - original_coefs_quad\n",
    "    \n",
    "    return bootstrap_means, bias, se_bootstrap\n",
    "\n",
    "bootstrap_means_quad, bias_quad, se_bootstrap_quad = bootstrap_lr_quadratic(X_quad, y)\n",
    "\n",
    "print(\"\\nBootstrap Statistics:\")\n",
    "print(f\"{'':<10}{'Original':>15}{'Bias':>15}{'Std. Error':>15}\")\n",
    "for i, coef_name in enumerate([\"Intercept\", \"Horsepower\", \"Horsepower^2\"]):\n",
    "    print(f\"{coef_name:<10}{bootstrap_means_quad[i]:>15.6f}{bias_quad[i]:>15.6f}{se_bootstrap_quad[i]:>15.6f}\")\n"
   ]
  },
  {
   "cell_type": "code",
   "execution_count": 49,
   "metadata": {},
   "outputs": [
    {
     "name": "stdout",
     "output_type": "stream",
     "text": [
      "                            OLS Regression Results                            \n",
      "==============================================================================\n",
      "Dep. Variable:                    mpg   R-squared:                       0.688\n",
      "Model:                            OLS   Adj. R-squared:                  0.686\n",
      "Method:                 Least Squares   F-statistic:                     428.0\n",
      "Date:                Mon, 03 Mar 2025   Prob (F-statistic):           5.40e-99\n",
      "Time:                        09:06:07   Log-Likelihood:                -1133.2\n",
      "No. Observations:                 392   AIC:                             2272.\n",
      "Df Residuals:                     389   BIC:                             2284.\n",
      "Df Model:                           2                                         \n",
      "Covariance Type:            nonrobust                                         \n",
      "================================================================================\n",
      "                   coef    std err          t      P>|t|      [0.025      0.975]\n",
      "--------------------------------------------------------------------------------\n",
      "const           56.9001      1.800     31.604      0.000      53.360      60.440\n",
      "horsepower      -0.4662      0.031    -14.978      0.000      -0.527      -0.405\n",
      "horsepower^2     0.0012      0.000     10.080      0.000       0.001       0.001\n",
      "==============================================================================\n",
      "Omnibus:                       16.158   Durbin-Watson:                   1.078\n",
      "Prob(Omnibus):                  0.000   Jarque-Bera (JB):               30.662\n",
      "Skew:                           0.218   Prob(JB):                     2.20e-07\n",
      "Kurtosis:                       4.299   Cond. No.                     1.29e+05\n",
      "==============================================================================\n",
      "\n",
      "Notes:\n",
      "[1] Standard Errors assume that the covariance matrix of the errors is correctly specified.\n",
      "[2] The condition number is large, 1.29e+05. This might indicate that there are\n",
      "strong multicollinearity or other numerical problems.\n"
     ]
    }
   ],
   "source": [
    "# include horsepower^2 in the model\n",
    "X_quad = pd.DataFrame({\n",
    "    \"const\": 1,                # intercept\n",
    "    \"horsepower\": X,\n",
    "    \"horsepower^2\": X**2\n",
    "})\n",
    "\n",
    "model_quad = sm.OLS(y, X_quad).fit()\n",
    "\n",
    "model_quad.summary()\n",
    "print(model_quad.summary())"
   ]
  },
  {
   "cell_type": "markdown",
   "metadata": {},
   "source": [
    "After fitting a simple and basic linear regression model to predict mpg based on horsepower, we now extend our analysis by incorporating a quadratic term \"Horsepower^2\" which will allow us to capture non-linear relationships between our variables.\n",
    "\n",
    "Keep in mind that the new model will now look something like this mathematically:\n",
    "\n",
    "$$mpg = \\beta_0 + \\beta_1 * (horsepower) + \\beta_2 * (Horsepower^2) + \\epsilon$$\n",
    "\n",
    "As last time, we used the OLS summary and params functions to estimate the coefficients and get further information about the modified model.\n",
    "\n",
    "We can see that horsepower and horsepower^2 are highly significant as their P-values are very low, this confirms for us that the newly added term is useful and makes a meaningful contribution to the end-result of the model. We still have a negative coefficient for horsepower (-0.466) but positive for horsepower^2 which means that there is a curved relationship. The model $R^2$ is 0.688 which was higher than the linear model.\n",
    "\n",
    "Now we can give a full summary that compares the bootstrapping resampling method to OLS when estimating standard errors, biases and means of our coefficients in a table. A nice addition to this is that i also included the biases which is the difference between the OLS and bootstrap means. I also rounded the numbers from my outputs in order to make the table more compact and easier to read.\n",
    "\n",
    "### Summary\n",
    "\n",
    "\n",
    "| coefficient          | OLS mean | bootstrap mean | bias    | OLS std error | bootstrap std. error |\n",
    "|----------------------|----------|----------------|---------|---------------|----------------------|\n",
    "| intercept $\\beta_0$  | 56.9     | 56.78          | -0.116  | 1.8           | 2.11                 |\n",
    "| Horsepower $\\beta_1$ | -0.466   | -0.464         | 0.002   | 0.031         | 0.033                |\n",
    "| Horsepower $\\beta_2$ | 0.0012   | 0.0012         | 0.00006 | 0.0001        | 0.00012              |\n",
    "\n",
    "- The bootstrap standard error is slightly larger than the OLS, particularly for the intercept.\n",
    "- Biases are very small which means that OLS is pretty unbiased\n",
    "- Including quadratic term improves the model because we confirm from the coefficients that the relationship between mpg and horsepower is not strictly linear.\n",
    "- Since the results of the bootstrapping closely match the OLS results, **we validate the reliability of the OLS model.**"
   ]
  }
 ],
 "metadata": {
  "kernelspec": {
   "display_name": "Python 3",
   "language": "python",
   "name": "python3"
  },
  "language_info": {
   "codemirror_mode": {
    "name": "ipython",
    "version": 3
   },
   "file_extension": ".py",
   "mimetype": "text/x-python",
   "name": "python",
   "nbconvert_exporter": "python",
   "pygments_lexer": "ipython3",
   "version": "3.13.0"
  }
 },
 "nbformat": 4,
 "nbformat_minor": 2
}
